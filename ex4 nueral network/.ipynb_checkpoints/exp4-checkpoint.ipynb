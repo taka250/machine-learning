{
 "cells": [
  {
   "cell_type": "markdown",
   "id": "0394dbaa",
   "metadata": {},
   "source": [
    "# 神经网络\n",
    "\n",
    "\n",
    "\n",
    "加载matlab数据时可以使用scipy工具\n",
    "\n",
    "\n",
    "将处理手写字符集没使用反向传播的前馈神经网络  \n",
    "实现非正则化和正则化的版本，并且随即权重初始化。"
   ]
  },
  {
   "cell_type": "code",
   "execution_count": 4,
   "id": "27316328",
   "metadata": {},
   "outputs": [],
   "source": [
    "import numpy as np\n",
    "import pandas as pd\n",
    "import matplotlib.pyplot as plt\n",
    "from scipy.io import loadmat"
   ]
  },
  {
   "cell_type": "code",
   "execution_count": 5,
   "id": "4fb3bc3c",
   "metadata": {},
   "outputs": [
    {
     "data": {
      "text/plain": [
       "{'__header__': b'MATLAB 5.0 MAT-file, Platform: GLNXA64, Created on: Sun Oct 16 13:09:09 2011',\n",
       " '__version__': '1.0',\n",
       " '__globals__': [],\n",
       " 'X': array([[0., 0., 0., ..., 0., 0., 0.],\n",
       "        [0., 0., 0., ..., 0., 0., 0.],\n",
       "        [0., 0., 0., ..., 0., 0., 0.],\n",
       "        ...,\n",
       "        [0., 0., 0., ..., 0., 0., 0.],\n",
       "        [0., 0., 0., ..., 0., 0., 0.],\n",
       "        [0., 0., 0., ..., 0., 0., 0.]]),\n",
       " 'y': array([[10],\n",
       "        [10],\n",
       "        [10],\n",
       "        ...,\n",
       "        [ 9],\n",
       "        [ 9],\n",
       "        [ 9]], dtype=uint8)}"
      ]
     },
     "execution_count": 5,
     "metadata": {},
     "output_type": "execute_result"
    }
   ],
   "source": [
    "data = loadmat('./ex4data1.mat')\n",
    "data"
   ]
  },
  {
   "cell_type": "code",
   "execution_count": 6,
   "id": "fdd21c58",
   "metadata": {
    "scrolled": true
   },
   "outputs": [],
   "source": [
    "X=data['X']\n",
    "y=data['y']"
   ]
  },
  {
   "cell_type": "markdown",
   "id": "e5717e92",
   "metadata": {},
   "source": [
    "要对离散数据进行编码，也是新工具很实用，one-hot标签,可以变成神经网络输出层的标签"
   ]
  },
  {
   "cell_type": "code",
   "execution_count": 7,
   "id": "707ee8e0",
   "metadata": {},
   "outputs": [
    {
     "data": {
      "text/plain": [
       "(5000, 10)"
      ]
     },
     "execution_count": 7,
     "metadata": {},
     "output_type": "execute_result"
    }
   ],
   "source": [
    "from sklearn.preprocessing import OneHotEncoder as oh\n",
    "\n",
    "encoder=oh(sparse=False)\n",
    "y_onehot = encoder.fit_transform(y)\n",
    "y_onehot.shape\n"
   ]
  },
  {
   "cell_type": "code",
   "execution_count": 8,
   "id": "513a8649",
   "metadata": {},
   "outputs": [
    {
     "data": {
      "text/plain": [
       "(array([10], dtype=uint8), array([0., 0., 0., 0., 0., 0., 0., 0., 0., 1.]))"
      ]
     },
     "execution_count": 8,
     "metadata": {},
     "output_type": "execute_result"
    }
   ],
   "source": [
    "y[0], y_onehot[0,:]#可以看到10变为向量"
   ]
  },
  {
   "cell_type": "markdown",
   "id": "738f8a0a",
   "metadata": {},
   "source": [
    "## sigmod 函数"
   ]
  },
  {
   "cell_type": "code",
   "execution_count": 24,
   "id": "25c50935",
   "metadata": {},
   "outputs": [],
   "source": [
    "def sigmoid(z):\n",
    "    return 1 / (1 + np.exp(-z))\n",
    "\n",
    "def sigmoid_gradient(z):#对sigmoid求导\n",
    "    return np.multiply(sigmoid(z), (1 - sigmoid(z)))"
   ]
  },
  {
   "cell_type": "markdown",
   "id": "b5a8c157",
   "metadata": {},
   "source": [
    "## 前向传播函数 \n",
    "这里用的是三层神经网络  \n",
    " (400 + 1) -> (25 + 1) -> (10)"
   ]
  },
  {
   "cell_type": "code",
   "execution_count": 10,
   "id": "0ad8b49e",
   "metadata": {},
   "outputs": [],
   "source": [
    "def forward(X,theta1,theta2):\n",
    "    m=X.shape[0]\n",
    "    \n",
    "    a1 = np.insert(X, 0, values=np.ones(m), axis=1)#插入bias列\n",
    "    z2=a1*theta1.T#这里的theta1是二阶矩阵\n",
    "    a2 = np.insert(sigmoid(z2), 0, values=np.ones(m), axis=1)\n",
    "    z3=a2*theta2.T\n",
    "    final=sigmoid(z3)\n",
    "    \n",
    "    return a1,z2,a2,z3,final"
   ]
  },
  {
   "cell_type": "markdown",
   "id": "e15af937",
   "metadata": {},
   "source": [
    "代价公式：\n",
    "\n",
    "$$\n",
    "J(\\theta)=\\frac{1}{m} \\sum_{i=1}^{m} \\sum_{k=1}^{K}\\left[-y_{k}^{(i)} \\log \\left(\\left(h_{\\theta}\\left(x^{(i)}\\right)\\right)_{k}\\right)-\\left(1-y_{k}^{(i)}\\right) \\log \\left(1-\\left(h_{\\theta}\\left(x^{(i)}\\right)\\right)_{k}\\right)\\right]$$"
   ]
  },
  {
   "cell_type": "code",
   "execution_count": 11,
   "id": "80c5c352",
   "metadata": {},
   "outputs": [],
   "source": [
    "def cost(params,input_size,hidden_size,num_labels,X,y,rate):\n",
    "    m = X.shape[0]\n",
    "    X = np.matrix(X)\n",
    "    y = np.matrix(y)\n",
    "    \n",
    "       # reshape the parameter array into parameter matrices for each layer\n",
    "    #就是给到的param是一维数组将其根据隐藏单元个数\n",
    "    theta1 = np.matrix(np.reshape(params[:hidden_size * (input_size + 1)], (hidden_size, (input_size + 1))))\n",
    "    theta2 = np.matrix(np.reshape(params[hidden_size * (input_size + 1):], (num_labels, (hidden_size + 1))))\n",
    "    \n",
    "    # 使用向前传播\n",
    "    a1,z2,a2,z3,final = forward(X,theta1,theta2)\n",
    "    \n",
    "    #计算cost\n",
    "    first=np.multiply(-y,np.log( final))\n",
    "    second=np.multiply((1-y),np.log(1- final))\n",
    "    \n",
    "    return np.sum(first-second)/m\n",
    "    \n",
    "    \n",
    "    \n",
    "    "
   ]
  },
  {
   "cell_type": "markdown",
   "id": "c3d0d707",
   "metadata": {},
   "source": [
    "初始化设置"
   ]
  },
  {
   "cell_type": "code",
   "execution_count": 16,
   "id": "38321462",
   "metadata": {},
   "outputs": [
    {
     "data": {
      "text/plain": [
       "((25, 401), (10, 26))"
      ]
     },
     "execution_count": 16,
     "metadata": {},
     "output_type": "execute_result"
    }
   ],
   "source": [
    "#初始化设置\n",
    "input_size = 400#这是输入的特征数量\n",
    "hidden_size = 25#隐藏单元的数量\n",
    "num_labels = 10#输出的标签数量\n",
    "learning_rate = 1#学习率\n",
    "\n",
    "# 随机初始化完整网络参数大小的参数数组\n",
    "params = (np.random.random(size=hidden_size * (input_size + 1) + num_labels * (hidden_size + 1)) - 0.5) * 0.25\n",
    "m = X.shape[0]\n",
    "X = np.matrix(X)\n",
    "y = np.matrix(y)\n",
    "                                                                               \n",
    "#这里解开矩阵，但是不知道为什么函数里已经有的功能还要再实现一次                                                                               # 将参数数组解开为每个层的参数矩阵\n",
    "theta1 = np.matrix(np.reshape(params[:hidden_size * (input_size + 1)], (hidden_size, (input_size + 1))))\n",
    "theta2 = np.matrix(np.reshape(params[hidden_size * (input_size + 1):], (num_labels, (hidden_size + 1))))\n",
    "\n",
    "theta1.shape, theta2.shape\n",
    "                                                                               \n",
    "                                                                               \n"
   ]
  },
  {
   "cell_type": "code",
   "execution_count": 15,
   "id": "448cc3cb",
   "metadata": {},
   "outputs": [
    {
     "data": {
      "text/plain": [
       "(10285,)"
      ]
     },
     "execution_count": 15,
     "metadata": {},
     "output_type": "execute_result"
    }
   ],
   "source": [
    "params = (np.random.random(size=hidden_size * (input_size + 1) + num_labels * (hidden_size + 1)) - 0.5) * 0.25\n",
    "\n",
    "params.shape"
   ]
  },
  {
   "cell_type": "code",
   "execution_count": 21,
   "id": "1e680ce2",
   "metadata": {},
   "outputs": [
    {
     "data": {
      "text/plain": [
       "7.284818017666802"
      ]
     },
     "execution_count": 21,
     "metadata": {},
     "output_type": "execute_result"
    }
   ],
   "source": [
    "cost(params, input_size, hidden_size, num_labels, X, y_onehot, learning_rate)"
   ]
  },
  {
   "cell_type": "markdown",
   "id": "2f92993d",
   "metadata": {},
   "source": [
    "## 正则化的cost公式\n",
    "\n",
    "\\begin{aligned}\n",
    "J(\\theta)= & \\frac{1}{m} \\sum_{i=1}^{m} \\sum_{k=1}^{K}\\left[-y_{k}^{(i)} \\log \\left(\\left(h_{\\theta}\\left(x^{(i)}\\right)\\right)_{k}\\right)-\\left(1-y_{k}^{(i)}\\right) \\log \\left(1-\\left(h_{\\theta}\\left(x^{(i)}\\right)\\right)_{k}\\right)\\right]+ \\\\\n",
    "& \\frac{\\lambda}{2 m}\\left[\\sum_{j=1}^{25} \\sum_{k=1}^{400}\\left(\\Theta_{j, k}^{(1)}\\right)^{2}+\\sum_{j=1}^{10} \\sum_{k=1}^{25}\\left(\\Theta_{j, k}^{(2)}\\right)^{2}\\right]\n",
    "\\end{aligned}  \n",
    "\n"
   ]
  },
  {
   "cell_type": "code",
   "execution_count": 22,
   "id": "44c3cfaa",
   "metadata": {},
   "outputs": [],
   "source": [
    "def cost(params,input_size,hidden_size,num_labels,X,y,rate):\n",
    "    m = X.shape[0]\n",
    "    X = np.matrix(X)\n",
    "    y = np.matrix(y)\n",
    "    \n",
    "       # reshape the parameter array into parameter matrices for each layer\n",
    "    #就是给到的param是一维数组将其根据隐藏单元个数\n",
    "    theta1 = np.matrix(np.reshape(params[:hidden_size * (input_size + 1)], (hidden_size, (input_size + 1))))\n",
    "    theta2 = np.matrix(np.reshape(params[hidden_size * (input_size + 1):], (num_labels, (hidden_size + 1))))\n",
    "    \n",
    "    # 使用向前传播\n",
    "    a1,z2,a2,z3,final = forward(X,theta1,theta2)\n",
    "    \n",
    "    #计算cost\n",
    "    first=np.multiply(-y,np.log( final))\n",
    "    second=np.multiply((1-y),np.log(1- final))\n",
    "    \n",
    "    J =np.sum(first-second)/m\n",
    "    \n",
    "    J += (float(learning_rate) / (2 * m)) * (np.sum(np.power(theta1[:,1:], 2)) + np.sum(np.power(theta2[:,1:], 2)))\n",
    "    #这边进行切片是因为第一个theta用于bias单元可以不用进行正则化\n",
    "    \n",
    "    return J\n",
    "    \n",
    "    \n",
    "    "
   ]
  },
  {
   "cell_type": "code",
   "execution_count": 23,
   "id": "a3d6fe87",
   "metadata": {},
   "outputs": [
    {
     "data": {
      "text/plain": [
       "7.290100040265456"
      ]
     },
     "execution_count": 23,
     "metadata": {},
     "output_type": "execute_result"
    }
   ],
   "source": [
    "cost(params, input_size, hidden_size, num_labels, X, y_onehot, learning_rate)"
   ]
  },
  {
   "attachments": {},
   "cell_type": "markdown",
   "id": "d231c933",
   "metadata": {},
   "source": [
    "## 反向传播算法\n",
    "这是重点，用于更新计算减少训练数据上的网络误差  \n",
    "算法的本质是链式计算出每一层的误差\n",
    "\n",
    "\n"
   ]
  },
  {
   "cell_type": "code",
   "execution_count": 28,
   "id": "0dd2802f",
   "metadata": {},
   "outputs": [],
   "source": [
    "def backprop(params, input_size, hidden_size, num_labels, X, y, learning_rate):\n",
    "    m = X.shape[0]\n",
    "    X = np.matrix(X)\n",
    "    y = np.matrix(y)\n",
    "    \n",
    "    # reshape the parameter array into parameter matrices for each layer\n",
    "    theta1 = np.matrix(np.reshape(params[:hidden_size * (input_size + 1)], (hidden_size, (input_size + 1))))\n",
    "    theta2 = np.matrix(np.reshape(params[hidden_size * (input_size + 1):], (num_labels, (hidden_size + 1))))\n",
    "    \n",
    "    # run the feed-forward pass\n",
    "    a1, z2, a2, z3, h = forward(X, theta1, theta2)\n",
    "    \n",
    "    # initializations\n",
    "    J = 0\n",
    "    delta1 = np.zeros(theta1.shape)  # (25, 401)\n",
    "    delta2 = np.zeros(theta2.shape)  # (10, 26)\n",
    "    \n",
    "    # compute the cost\n",
    "    for i in range(m):\n",
    "        first_term = np.multiply(-y[i,:], np.log(h[i,:]))\n",
    "        second_term = np.multiply((1 - y[i,:]), np.log(1 - h[i,:]))\n",
    "        J += np.sum(first_term - second_term)\n",
    "    \n",
    "    J = J / m\n",
    "    \n",
    "    # add the cost regularization term\n",
    "    J += (float(learning_rate) / (2 * m)) * (np.sum(np.power(theta1[:,1:], 2)) + np.sum(np.power(theta2[:,1:], 2)))\n",
    "    \n",
    "    # perform backpropagation\n",
    "    for t in range(m):\n",
    "        a1t = a1[t,:]  # (1, 401)\n",
    "        z2t = z2[t,:]  # (1, 25)\n",
    "        a2t = a2[t,:]  # (1, 26)\n",
    "        ht = h[t,:]  # (1, 10)\n",
    "        yt = y[t,:]  # (1, 10)\n",
    "        ## d3T,d2t是定义的变量可以和对应的a相乘变为对某个theta值的偏导数\n",
    "        d3t = ht - yt  # (1, 10)\n",
    "        \n",
    "        z2t = np.insert(z2t, 0, values=np.ones(1))  # (1, 26)\n",
    "        d2t = np.multiply((theta2.T * d3t.T).T, sigmoid_gradient(z2t))  # (1, 26)\n",
    "        \n",
    "        delta1 = delta1 + (d2t[:,1:]).T * a1t\n",
    "        delta2 = delta2 + d3t.T * a2t\n",
    "        \n",
    "    delta1 = delta1 / m\n",
    "    delta2 = delta2 / m\n",
    "    \n",
    "    # add the gradient regularization term\n",
    "    delta1[:,1:] = delta1[:,1:] + (theta1[:,1:] * learning_rate) / m\n",
    "    delta2[:,1:] = delta2[:,1:] + (theta2[:,1:] * learning_rate) / m\n",
    "    \n",
    "    \n",
    "    # unravel the gradient matrices into a single array\n",
    "    grad = np.concatenate((np.ravel(delta1), np.ravel(delta2)))\n",
    "    \n",
    "    return J, grad"
   ]
  },
  {
   "cell_type": "code",
   "execution_count": 30,
   "id": "76480017",
   "metadata": {},
   "outputs": [
    {
     "data": {
      "text/plain": [
       "array([-2.06800554e-03, -3.89117180e-06, -1.04485166e-05, ...,\n",
       "        1.71866718e-01,  1.91232991e-01,  1.95154848e-01])"
      ]
     },
     "execution_count": 30,
     "metadata": {},
     "output_type": "execute_result"
    }
   ],
   "source": [
    "J, grad = backprop(params, input_size, hidden_size, num_labels, X, y_onehot, learning_rate)\n",
    "grad"
   ]
  },
  {
   "cell_type": "code",
   "execution_count": null,
   "id": "2ecad337",
   "metadata": {},
   "outputs": [],
   "source": []
  }
 ],
 "metadata": {
  "kernelspec": {
   "display_name": "Python 3 (ipykernel)",
   "language": "python",
   "name": "python3"
  },
  "language_info": {
   "codemirror_mode": {
    "name": "ipython",
    "version": 3
   },
   "file_extension": ".py",
   "mimetype": "text/x-python",
   "name": "python",
   "nbconvert_exporter": "python",
   "pygments_lexer": "ipython3",
   "version": "3.7.2"
  },
  "toc": {
   "base_numbering": 1,
   "nav_menu": {},
   "number_sections": true,
   "sideBar": true,
   "skip_h1_title": false,
   "title_cell": "Table of Contents",
   "title_sidebar": "Contents",
   "toc_cell": false,
   "toc_position": {},
   "toc_section_display": true,
   "toc_window_display": false
  }
 },
 "nbformat": 4,
 "nbformat_minor": 5
}
