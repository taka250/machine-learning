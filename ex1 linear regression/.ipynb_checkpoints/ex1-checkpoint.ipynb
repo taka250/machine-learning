{
 "cells": [
  {
   "cell_type": "markdown",
   "id": "77f659fa",
   "metadata": {},
   "source": [
    "# 线性回归实现\n",
    "\n",
    "导包 用csv格式读取dataframe"
   ]
  },
  {
   "cell_type": "code",
   "execution_count": 2,
   "id": "ab796d6a",
   "metadata": {},
   "outputs": [
    {
     "data": {
      "text/html": [
       "<div>\n",
       "<style scoped>\n",
       "    .dataframe tbody tr th:only-of-type {\n",
       "        vertical-align: middle;\n",
       "    }\n",
       "\n",
       "    .dataframe tbody tr th {\n",
       "        vertical-align: top;\n",
       "    }\n",
       "\n",
       "    .dataframe thead th {\n",
       "        text-align: right;\n",
       "    }\n",
       "</style>\n",
       "<table border=\"1\" class=\"dataframe\">\n",
       "  <thead>\n",
       "    <tr style=\"text-align: right;\">\n",
       "      <th></th>\n",
       "      <th>population</th>\n",
       "      <th>profit</th>\n",
       "    </tr>\n",
       "  </thead>\n",
       "  <tbody>\n",
       "    <tr>\n",
       "      <th>0</th>\n",
       "      <td>6.1101</td>\n",
       "      <td>17.59200</td>\n",
       "    </tr>\n",
       "    <tr>\n",
       "      <th>1</th>\n",
       "      <td>5.5277</td>\n",
       "      <td>9.13020</td>\n",
       "    </tr>\n",
       "    <tr>\n",
       "      <th>2</th>\n",
       "      <td>8.5186</td>\n",
       "      <td>13.66200</td>\n",
       "    </tr>\n",
       "    <tr>\n",
       "      <th>3</th>\n",
       "      <td>7.0032</td>\n",
       "      <td>11.85400</td>\n",
       "    </tr>\n",
       "    <tr>\n",
       "      <th>4</th>\n",
       "      <td>5.8598</td>\n",
       "      <td>6.82330</td>\n",
       "    </tr>\n",
       "    <tr>\n",
       "      <th>...</th>\n",
       "      <td>...</td>\n",
       "      <td>...</td>\n",
       "    </tr>\n",
       "    <tr>\n",
       "      <th>92</th>\n",
       "      <td>5.8707</td>\n",
       "      <td>7.20290</td>\n",
       "    </tr>\n",
       "    <tr>\n",
       "      <th>93</th>\n",
       "      <td>5.3054</td>\n",
       "      <td>1.98690</td>\n",
       "    </tr>\n",
       "    <tr>\n",
       "      <th>94</th>\n",
       "      <td>8.2934</td>\n",
       "      <td>0.14454</td>\n",
       "    </tr>\n",
       "    <tr>\n",
       "      <th>95</th>\n",
       "      <td>13.3940</td>\n",
       "      <td>9.05510</td>\n",
       "    </tr>\n",
       "    <tr>\n",
       "      <th>96</th>\n",
       "      <td>5.4369</td>\n",
       "      <td>0.61705</td>\n",
       "    </tr>\n",
       "  </tbody>\n",
       "</table>\n",
       "<p>97 rows × 2 columns</p>\n",
       "</div>"
      ],
      "text/plain": [
       "    population    profit\n",
       "0       6.1101  17.59200\n",
       "1       5.5277   9.13020\n",
       "2       8.5186  13.66200\n",
       "3       7.0032  11.85400\n",
       "4       5.8598   6.82330\n",
       "..         ...       ...\n",
       "92      5.8707   7.20290\n",
       "93      5.3054   1.98690\n",
       "94      8.2934   0.14454\n",
       "95     13.3940   9.05510\n",
       "96      5.4369   0.61705\n",
       "\n",
       "[97 rows x 2 columns]"
      ]
     },
     "execution_count": 2,
     "metadata": {},
     "output_type": "execute_result"
    }
   ],
   "source": [
    "import numpy as np\n",
    "#import matplotlib.pyplot as plt\n",
    "import pandas as pd\n",
    "\n",
    "path = 'data1.txt'\n",
    "data1 = pd.read_csv(path,names=['population','profit'])\n",
    "data1\n",
    "\n"
   ]
  },
  {
   "cell_type": "markdown",
   "id": "f3d3c590",
   "metadata": {},
   "source": [
    "用散点图查看数据 现在是单元线性回归"
   ]
  },
  {
   "cell_type": "code",
   "execution_count": 8,
   "id": "c9e8bfe0",
   "metadata": {},
   "outputs": [
    {
     "data": {
      "text/plain": [
       "<AxesSubplot:xlabel='population', ylabel='profit'>"
      ]
     },
     "execution_count": 8,
     "metadata": {},
     "output_type": "execute_result"
    },
    {
     "data": {
      "image/png": "[encoded data removed]",
      "text/plain": [
       "<Figure size 1200x800 with 1 Axes>"
      ]
     },
     "metadata": {},
     "output_type": "display_data"
    }
   ],
   "source": [
    "data1.plot(kind='scatter',x='population',y='profit',figsize=(12,8))"
   ]
  },
  {
   "cell_type": "markdown",
   "id": "8be1bbc1",
   "metadata": {},
   "source": [
    "可求出cost function 如下"
   ]
  },
  {
   "cell_type": "code",
   "execution_count": 54,
   "id": "04e0e1e6",
   "metadata": {},
   "outputs": [],
   "source": [
    "def costfunc(x,y,theta):\n",
    "    return np.sum(np.power((np.dot(x,theta.T)-y),2))/2*len(x)"
   ]
  },
  {
   "cell_type": "markdown",
   "id": "3255f3ab",
   "metadata": {},
   "source": [
    "因为要给theta0配上数据所以增加一列x0"
   ]
  },
  {
   "cell_type": "code",
   "execution_count": 14,
   "id": "a03e3f67",
   "metadata": {},
   "outputs": [
    {
     "data": {
      "text/html": [
       "<div>\n",
       "<style scoped>\n",
       "    .dataframe tbody tr th:only-of-type {\n",
       "        vertical-align: middle;\n",
       "    }\n",
       "\n",
       "    .dataframe tbody tr th {\n",
       "        vertical-align: top;\n",
       "    }\n",
       "\n",
       "    .dataframe thead th {\n",
       "        text-align: right;\n",
       "    }\n",
       "</style>\n",
       "<table border=\"1\" class=\"dataframe\">\n",
       "  <thead>\n",
       "    <tr style=\"text-align: right;\">\n",
       "      <th></th>\n",
       "      <th>x0</th>\n",
       "      <th>population</th>\n",
       "      <th>profit</th>\n",
       "    </tr>\n",
       "  </thead>\n",
       "  <tbody>\n",
       "    <tr>\n",
       "      <th>0</th>\n",
       "      <td>1</td>\n",
       "      <td>6.1101</td>\n",
       "      <td>17.5920</td>\n",
       "    </tr>\n",
       "    <tr>\n",
       "      <th>1</th>\n",
       "      <td>1</td>\n",
       "      <td>5.5277</td>\n",
       "      <td>9.1302</td>\n",
       "    </tr>\n",
       "    <tr>\n",
       "      <th>2</th>\n",
       "      <td>1</td>\n",
       "      <td>8.5186</td>\n",
       "      <td>13.6620</td>\n",
       "    </tr>\n",
       "    <tr>\n",
       "      <th>3</th>\n",
       "      <td>1</td>\n",
       "      <td>7.0032</td>\n",
       "      <td>11.8540</td>\n",
       "    </tr>\n",
       "    <tr>\n",
       "      <th>4</th>\n",
       "      <td>1</td>\n",
       "      <td>5.8598</td>\n",
       "      <td>6.8233</td>\n",
       "    </tr>\n",
       "  </tbody>\n",
       "</table>\n",
       "</div>"
      ],
      "text/plain": [
       "   x0  population   profit\n",
       "0   1      6.1101  17.5920\n",
       "1   1      5.5277   9.1302\n",
       "2   1      8.5186  13.6620\n",
       "3   1      7.0032  11.8540\n",
       "4   1      5.8598   6.8233"
      ]
     },
     "execution_count": 14,
     "metadata": {},
     "output_type": "execute_result"
    }
   ],
   "source": [
    "data1.insert(loc=0,column='x0',value=1)\n",
    "data1.head()"
   ]
  },
  {
   "cell_type": "markdown",
   "id": "f1ff1055",
   "metadata": {},
   "source": [
    "将x改为训练set即data1除了最后一列 y是所求目标"
   ]
  },
  {
   "cell_type": "code",
   "execution_count": 27,
   "id": "ff671cd9",
   "metadata": {},
   "outputs": [],
   "source": [
    "x=data1.iloc[:,0:data1.shape[1]-1]\n",
    "y=data1.iloc[:,data1.shape[1]-1:data1.shape[1]]"
   ]
  },
  {
   "cell_type": "markdown",
   "id": "89def5f4",
   "metadata": {},
   "source": [
    "将dataframe格式转化为np里的matrix 然后创建theta，因为一般都是从原点开始所以设置0，0"
   ]
  },
  {
   "cell_type": "code",
   "execution_count": 49,
   "id": "623fd910",
   "metadata": {},
   "outputs": [
    {
     "ename": "AttributeError",
     "evalue": "'matrix' object has no attribute 'values'",
     "output_type": "error",
     "traceback": [
      "\u001b[1;31m---------------------------------------------------------------------------\u001b[0m",
      "\u001b[1;31mAttributeError\u001b[0m                            Traceback (most recent call last)",
      "\u001b[1;32m~\\AppData\\Local\\Temp\\ipykernel_17872\\2271875348.py\u001b[0m in \u001b[0;36m<module>\u001b[1;34m\u001b[0m\n\u001b[1;32m----> 1\u001b[1;33m \u001b[0mx\u001b[0m\u001b[1;33m=\u001b[0m\u001b[0mnp\u001b[0m\u001b[1;33m.\u001b[0m\u001b[0mmatrix\u001b[0m\u001b[1;33m(\u001b[0m\u001b[0mx\u001b[0m\u001b[1;33m.\u001b[0m\u001b[0mvalues\u001b[0m\u001b[1;33m)\u001b[0m\u001b[1;33m\u001b[0m\u001b[1;33m\u001b[0m\u001b[0m\n\u001b[0m\u001b[0;32m      2\u001b[0m \u001b[0my\u001b[0m\u001b[1;33m=\u001b[0m\u001b[0mnp\u001b[0m\u001b[1;33m.\u001b[0m\u001b[0mmatrix\u001b[0m\u001b[1;33m(\u001b[0m\u001b[0my\u001b[0m\u001b[1;33m.\u001b[0m\u001b[0mvalues\u001b[0m\u001b[1;33m)\u001b[0m\u001b[1;33m\u001b[0m\u001b[1;33m\u001b[0m\u001b[0m\n\u001b[0;32m      3\u001b[0m \u001b[0mtheta\u001b[0m \u001b[1;33m=\u001b[0m \u001b[0mnp\u001b[0m\u001b[1;33m.\u001b[0m\u001b[0mmatrix\u001b[0m\u001b[1;33m(\u001b[0m\u001b[0mnp\u001b[0m\u001b[1;33m.\u001b[0m\u001b[0marray\u001b[0m\u001b[1;33m(\u001b[0m\u001b[1;33m[\u001b[0m\u001b[1;36m0\u001b[0m\u001b[1;33m,\u001b[0m\u001b[1;36m0\u001b[0m\u001b[1;33m]\u001b[0m\u001b[1;33m)\u001b[0m\u001b[1;33m)\u001b[0m\u001b[1;33m\u001b[0m\u001b[1;33m\u001b[0m\u001b[0m\n",
      "\u001b[1;31mAttributeError\u001b[0m: 'matrix' object has no attribute 'values'"
     ]
    }
   ],
   "source": [
    "x=np.matrix(x.values)\n",
    "y=np.matrix(y.values)\n",
    "theta = np.matrix(np.array([0,0]))\n"
   ]
  },
  {
   "cell_type": "markdown",
   "id": "fd485db1",
   "metadata": {},
   "source": [
    "## gradient decent\n",
    "前期数据处理完成进行梯度下降\n",
    "\n",
    "theta同时进行下降更新寻找cost函数的最佳值,\n",
    "alpha是学习速率,\n",
    "iters是迭代次数,\n",
    "ravel函数的功能是将原数组拉伸成为一维数组  \n",
    "\n",
    "\n",
    "\n",
    "以下式为总体的更新theta值的式子\n",
    "$$\n",
    "\\theta _j=\\theta _j-\\alpha \\frac{1}{m}\\sum_{i=1}^m{\\left( h_{\\theta}\\left( x^{\\left( i \\right)} \\right) -y^{\\left( i \\right)} \\right)}x_j^{\\left( i \\right)}\n",
    "$$\n",
    "\n"
   ]
  },
  {
   "cell_type": "code",
   "execution_count": 50,
   "id": "6851ef29",
   "metadata": {},
   "outputs": [],
   "source": [
    "def gradientDecent(x, y, theta, alpha, iters):\n",
    "    temp = np.matrix(np.zeros(theta.shape))#短暂记录更新后的theta值\n",
    "    parameters = int(theta.ravel().shape[1])#theta的个数，但是ravel的作用不是很清楚\n",
    "    cost = np.zeros(iters)#记录每次迭代以后的cost值\n",
    "\n",
    "    for i in range(iters):\n",
    "        error =x*theta.T-y#求出差值，就是上面式子最外层括号里的内容\n",
    "        \n",
    "        for j in range(parameters):#有几个theta就同时进行几次更新\n",
    "            term=np.multiply(error,x[:,j])#将最外层括号外的x(j)(i)值乘上去\n",
    "            temp[0,j]=theta[0,j]-np.sum(term)*alpha/len(x)#len函数效果和.shape[x]一样\n",
    "            \n",
    "        theta=temp#一轮迭代结束所有的theta更新一次\n",
    "        cost[i]=costfunc(x,y,theta) \n",
    "        \n",
    "    return theta,cost"
   ]
  },
  {
   "cell_type": "markdown",
   "id": "e6489bee",
   "metadata": {},
   "source": [
    "设置学习率和迭代次数然后进行迭代  \n",
    "得到theta的最佳值"
   ]
  },
  {
   "cell_type": "code",
   "execution_count": 55,
   "id": "26c963d4",
   "metadata": {},
   "outputs": [
    {
     "data": {
      "text/plain": [
       "matrix([[-3.24140214,  1.1272942 ]])"
      ]
     },
     "execution_count": 55,
     "metadata": {},
     "output_type": "execute_result"
    }
   ],
   "source": [
    "alpha=0.01\n",
    "iters=1000\n",
    "theta,cost=gradientDecent(x,y,theta,alpha,iters)\n",
    "theta"
   ]
  },
  {
   "cell_type": "markdown",
   "id": "5de51fc7",
   "metadata": {},
   "source": [
    "绘制线性模型和数据查看拟合度"
   ]
  },
  {
   "cell_type": "code",
   "execution_count": 62,
   "id": "0a0dd65a",
   "metadata": {},
   "outputs": [
    {
     "data": {
      "image/png": "[encoded data removed]",
      "text/plain": [
       "<Figure size 1200x800 with 1 Axes>"
      ]
     },
     "metadata": {},
     "output_type": "display_data"
    }
   ],
   "source": [
    "X =np.linspace(data1.population.min(),data1.population.max(),100)#随机生成一百的x\n",
    "func=theta[0,0]*1+theta[0,1]*X\n",
    "fig,ax=plt.subplots(figsize=(12,8))\n",
    "ax.plot(X,func,'r'，lable='prediction')\n",
    "ax.scatter(data1.population,data1.profit,'b',lable='traing set')\\\n",
    "ax.legend(loc=2)\n",
    "ax.set_xlabel('Population')\n",
    "ax.set_ylabel('Profit')\n",
    "ax.set_title('Predicted Profit vs. Population Size')\n"
   ]
  }
 ],
 "metadata": {
  "kernelspec": {
   "display_name": "Python 3 (ipykernel)",
   "language": "python",
   "name": "python3"
  },
  "language_info": {
   "codemirror_mode": {
    "name": "ipython",
    "version": 3
   },
   "file_extension": ".py",
   "mimetype": "text/x-python",
   "name": "python",
   "nbconvert_exporter": "python",
   "pygments_lexer": "ipython3",
   "version": "3.7.2"
  },
  "toc": {
   "base_numbering": 1,
   "nav_menu": {},
   "number_sections": true,
   "sideBar": true,
   "skip_h1_title": false,
   "title_cell": "Table of Contents",
   "title_sidebar": "Contents",
   "toc_cell": false,
   "toc_position": {},
   "toc_section_display": true,
   "toc_window_display": false
  }
 },
 "nbformat": 4,
 "nbformat_minor": 5
}
